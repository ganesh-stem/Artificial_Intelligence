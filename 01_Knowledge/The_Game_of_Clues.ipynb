{
  "nbformat": 4,
  "nbformat_minor": 0,
  "metadata": {
    "colab": {
      "name": "The_Game_of_Clues.ipynb",
      "provenance": [],
      "collapsed_sections": []
    },
    "kernelspec": {
      "name": "python3",
      "display_name": "Python 3"
    }
  },
  "cells": [
    {
      "cell_type": "markdown",
      "metadata": {
        "id": "PQaBl7wjmWgv"
      },
      "source": [
        "In this game of clues, we have three lits -- characters [ = People] , rooms, weapons. Each list consists of three elements. We need to find a criminal among this three people and the room [= where that person is currently in.] and the weapon of that person."
      ]
    },
    {
      "cell_type": "code",
      "metadata": {
        "id": "gg_GsfIha4hT"
      },
      "source": [
        "from logic import *\r\n",
        "import termcolor"
      ],
      "execution_count": null,
      "outputs": []
    },
    {
      "cell_type": "code",
      "metadata": {
        "id": "uZ0I5_vva9_w"
      },
      "source": [
        "# The People\r\n",
        "mustard = Symbol(\"ColMustard\")\r\n",
        "plum = Symbol(\"ProfPlum\")\r\n",
        "scarlet = Symbol(\"MsScarlet\")\r\n",
        "characters = [mustard, plum, scarlet]"
      ],
      "execution_count": null,
      "outputs": []
    },
    {
      "cell_type": "code",
      "metadata": {
        "id": "ZvOUbypZa-CV"
      },
      "source": [
        "# The Rooms\r\n",
        "ballroom = Symbol(\"ballroom\")\r\n",
        "kitchen = Symbol(\"kitchen\")\r\n",
        "library = Symbol(\"library\")\r\n",
        "rooms = [ballroom, kitchen, library]"
      ],
      "execution_count": null,
      "outputs": []
    },
    {
      "cell_type": "code",
      "metadata": {
        "id": "scwqeg6Ha-Fh"
      },
      "source": [
        "# The weapons\r\n",
        "knife = Symbol(\"knife\")\r\n",
        "revolver = Symbol(\"revolver\")\r\n",
        "wrench = Symbol(\"wrench\")\r\n",
        "weapons = [knife, revolver, wrench]"
      ],
      "execution_count": null,
      "outputs": []
    },
    {
      "cell_type": "code",
      "metadata": {
        "id": "iM9c8QRKa-IT"
      },
      "source": [
        "symbols = characters + rooms + weapons"
      ],
      "execution_count": null,
      "outputs": []
    },
    {
      "cell_type": "code",
      "metadata": {
        "id": "gk9GOy7Ca-Kc"
      },
      "source": [
        "def check_knowledge(knowledge):\r\n",
        "    for symbol in symbols:\r\n",
        "        if model_check(knowledge, symbol):\r\n",
        "            termcolor.cprint(f\"{symbol}: YES\", \"green\")\r\n",
        "        elif not model_check(knowledge, Not(symbol)):\r\n",
        "            print(f\"{symbol}: MAYBE\")"
      ],
      "execution_count": null,
      "outputs": []
    },
    {
      "cell_type": "code",
      "metadata": {
        "id": "1i8duGcSa-Mr"
      },
      "source": [
        "# There must be a person, room, and weapon.\r\n",
        "knowledge = And(\r\n",
        "    Or(mustard, plum, scarlet),\r\n",
        "    Or(ballroom, kitchen, library),\r\n",
        "    Or(knife, revolver, wrench)\r\n",
        ")"
      ],
      "execution_count": null,
      "outputs": []
    },
    {
      "cell_type": "code",
      "metadata": {
        "colab": {
          "base_uri": "https://localhost:8080/"
        },
        "id": "7urlktYTpVdJ",
        "outputId": "1d98a189-b3c9-4f51-b32a-a558cead5052"
      },
      "source": [
        "check_knowledge(knowledge)"
      ],
      "execution_count": null,
      "outputs": [
        {
          "output_type": "stream",
          "text": [
            "ColMustard: MAYBE\n",
            "ProfPlum: MAYBE\n",
            "MsScarlet: MAYBE\n",
            "ballroom: MAYBE\n",
            "kitchen: MAYBE\n",
            "library: MAYBE\n",
            "knife: MAYBE\n",
            "revolver: MAYBE\n",
            "wrench: MAYBE\n"
          ],
          "name": "stdout"
        }
      ]
    },
    {
      "cell_type": "code",
      "metadata": {
        "id": "fHEJBu-FbX4C"
      },
      "source": [
        "# Initial cards\r\n",
        "knowledge.add(And(\r\n",
        "    Not(mustard), Not(kitchen), Not(revolver)\r\n",
        "))"
      ],
      "execution_count": null,
      "outputs": []
    },
    {
      "cell_type": "code",
      "metadata": {
        "colab": {
          "base_uri": "https://localhost:8080/"
        },
        "id": "aJcl37dOpWnk",
        "outputId": "653d2bef-4d1a-489a-d714-91b76f113397"
      },
      "source": [
        "check_knowledge(knowledge)"
      ],
      "execution_count": null,
      "outputs": [
        {
          "output_type": "stream",
          "text": [
            "ProfPlum: MAYBE\n",
            "MsScarlet: MAYBE\n",
            "ballroom: MAYBE\n",
            "library: MAYBE\n",
            "knife: MAYBE\n",
            "wrench: MAYBE\n"
          ],
          "name": "stdout"
        }
      ]
    },
    {
      "cell_type": "code",
      "metadata": {
        "id": "QSaq70tcbX6h"
      },
      "source": [
        "# Unknown card\r\n",
        "knowledge.add(Or(\r\n",
        "    Not(scarlet), Not(library), Not(wrench)\r\n",
        "))"
      ],
      "execution_count": null,
      "outputs": []
    },
    {
      "cell_type": "code",
      "metadata": {
        "colab": {
          "base_uri": "https://localhost:8080/"
        },
        "id": "yO7EaWd9pYY3",
        "outputId": "61b04d23-914f-4d69-87a9-36461914a3cc"
      },
      "source": [
        "check_knowledge(knowledge)"
      ],
      "execution_count": null,
      "outputs": [
        {
          "output_type": "stream",
          "text": [
            "ProfPlum: MAYBE\n",
            "MsScarlet: MAYBE\n",
            "ballroom: MAYBE\n",
            "library: MAYBE\n",
            "knife: MAYBE\n",
            "wrench: MAYBE\n"
          ],
          "name": "stdout"
        }
      ]
    },
    {
      "cell_type": "code",
      "metadata": {
        "id": "Jr5bqVzjbX87"
      },
      "source": [
        "# Known cards\r\n",
        "knowledge.add(Not(plum))\r\n",
        "knowledge.add(Not(ballroom))"
      ],
      "execution_count": null,
      "outputs": []
    },
    {
      "cell_type": "code",
      "metadata": {
        "colab": {
          "base_uri": "https://localhost:8080/"
        },
        "id": "bW8h0FVUor8q",
        "outputId": "6208e977-a86e-47da-974e-be81e54d7ef4"
      },
      "source": [
        "print(knowledge.formula())"
      ],
      "execution_count": null,
      "outputs": [
        {
          "output_type": "stream",
          "text": [
            "(ColMustard ∨  ProfPlum ∨  MsScarlet) ∧ (ballroom ∨  kitchen ∨  library) ∧ (knife ∨  revolver ∨  wrench) ∧ ((¬ColMustard) ∧ (¬kitchen) ∧ (¬revolver)) ∧ ((¬MsScarlet) ∨  (¬library) ∨  (¬wrench)) ∧ (¬ProfPlum) ∧ (¬ballroom)\n"
          ],
          "name": "stdout"
        }
      ]
    },
    {
      "cell_type": "code",
      "metadata": {
        "colab": {
          "base_uri": "https://localhost:8080/"
        },
        "id": "tM1bK5SGbiTo",
        "outputId": "1eba2058-17ec-4dcd-ba90-6a2fbc0a9c0a"
      },
      "source": [
        "check_knowledge(knowledge)"
      ],
      "execution_count": null,
      "outputs": [
        {
          "output_type": "stream",
          "text": [
            "\u001b[32mMsScarlet: YES\u001b[0m\n",
            "\u001b[32mlibrary: YES\u001b[0m\n",
            "\u001b[32mknife: YES\u001b[0m\n"
          ],
          "name": "stdout"
        }
      ]
    }
  ]
}