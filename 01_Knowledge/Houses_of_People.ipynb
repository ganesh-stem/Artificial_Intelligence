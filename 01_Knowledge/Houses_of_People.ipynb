{
  "nbformat": 4,
  "nbformat_minor": 0,
  "metadata": {
    "colab": {
      "name": "House_of_People.pynb",
      "provenance": [],
      "collapsed_sections": []
    },
    "kernelspec": {
      "name": "python3",
      "display_name": "Python 3"
    }
  },
  "cells": [
    {
      "cell_type": "markdown",
      "metadata": {
        "id": "2uNQeQqNs9TA"
      },
      "source": [
        "Given the knowledge base, map the people to their respective houses."
      ]
    },
    {
      "cell_type": "code",
      "metadata": {
        "id": "lPXZm7sidMDT"
      },
      "source": [
        "from logic import *"
      ],
      "execution_count": null,
      "outputs": []
    },
    {
      "cell_type": "code",
      "metadata": {
        "id": "8NY3HrzidP67"
      },
      "source": [
        "people = [\"Gilderoy\", \"Pomona\", \"Minerva\", \"Horace\"]\r\n",
        "houses = [\"Gryffindor\", \"Hufflepuff\", \"Ravenclaw\", \"Slytherin\"]\r\n",
        "symbols = []"
      ],
      "execution_count": null,
      "outputs": []
    },
    {
      "cell_type": "code",
      "metadata": {
        "id": "q8xEUcWUdP9P"
      },
      "source": [
        "knowledge = And()"
      ],
      "execution_count": null,
      "outputs": []
    },
    {
      "cell_type": "code",
      "metadata": {
        "id": "i8QsimmadP_3"
      },
      "source": [
        "for person in people:\r\n",
        "    for house in houses:\r\n",
        "        symbols.append(Symbol(f\"{person}{house}\"))"
      ],
      "execution_count": null,
      "outputs": []
    },
    {
      "cell_type": "code",
      "metadata": {
        "id": "51n3PP8edQGW"
      },
      "source": [
        "# Each person belongs to a house.\r\n",
        "for person in people:\r\n",
        "    knowledge.add(Or(\r\n",
        "        Symbol(f\"{person}Gryffindor\"),\r\n",
        "        Symbol(f\"{person}Hufflepuff\"),\r\n",
        "        Symbol(f\"{person}Ravenclaw\"),\r\n",
        "        Symbol(f\"{person}Slytherin\")\r\n",
        "    ))"
      ],
      "execution_count": null,
      "outputs": []
    },
    {
      "cell_type": "code",
      "metadata": {
        "id": "TAGaQV1WdQRN"
      },
      "source": [
        "# Only one house per person.\r\n",
        "for person in people:\r\n",
        "    for h1 in houses:\r\n",
        "        for h2 in houses:\r\n",
        "            if h1 != h2:\r\n",
        "                knowledge.add(\r\n",
        "                    Implication(Symbol(f\"{person}{h1}\"), Not(Symbol(f\"{person}{h2}\")))\r\n",
        "                )"
      ],
      "execution_count": null,
      "outputs": []
    },
    {
      "cell_type": "code",
      "metadata": {
        "id": "gr34b4-udQUH"
      },
      "source": [
        "# Only one person per house.\r\n",
        "for house in houses:\r\n",
        "    for p1 in people:\r\n",
        "        for p2 in people:\r\n",
        "            if p1 != p2:\r\n",
        "                knowledge.add(\r\n",
        "                    Implication(Symbol(f\"{p1}{house}\"), Not(Symbol(f\"{p2}{house}\")))\r\n",
        "                )"
      ],
      "execution_count": null,
      "outputs": []
    },
    {
      "cell_type": "code",
      "metadata": {
        "id": "3yMC230GdQWW"
      },
      "source": [
        "knowledge.add(\r\n",
        "    Or(Symbol(\"GilderoyGryffindor\"), Symbol(\"GilderoyRavenclaw\"))\r\n",
        ")"
      ],
      "execution_count": null,
      "outputs": []
    },
    {
      "cell_type": "code",
      "metadata": {
        "id": "mJVM9QiydQZe"
      },
      "source": [
        "knowledge.add(\r\n",
        "    Not(Symbol(\"PomonaSlytherin\"))\r\n",
        ")"
      ],
      "execution_count": null,
      "outputs": []
    },
    {
      "cell_type": "code",
      "metadata": {
        "id": "S8B8xtI9eDJz"
      },
      "source": [
        "knowledge.add(\r\n",
        "    Symbol(\"MinervaGryffindor\")\r\n",
        ")"
      ],
      "execution_count": null,
      "outputs": []
    },
    {
      "cell_type": "code",
      "metadata": {
        "colab": {
          "base_uri": "https://localhost:8080/"
        },
        "id": "soWhwaJ-uKRw",
        "outputId": "370d5401-b9d0-4e3d-df48-7606d19c03c3"
      },
      "source": [
        "print(knowledge.formula())"
      ],
      "execution_count": null,
      "outputs": [
        {
          "output_type": "stream",
          "text": [
            "(GilderoyGryffindor ∨  GilderoyHufflepuff ∨  GilderoyRavenclaw ∨  GilderoySlytherin) ∧ (PomonaGryffindor ∨  PomonaHufflepuff ∨  PomonaRavenclaw ∨  PomonaSlytherin) ∧ (MinervaGryffindor ∨  MinervaHufflepuff ∨  MinervaRavenclaw ∨  MinervaSlytherin) ∧ (HoraceGryffindor ∨  HoraceHufflepuff ∨  HoraceRavenclaw ∨  HoraceSlytherin) ∧ (GilderoyGryffindor => (¬GilderoyHufflepuff)) ∧ (GilderoyGryffindor => (¬GilderoyRavenclaw)) ∧ (GilderoyGryffindor => (¬GilderoySlytherin)) ∧ (GilderoyHufflepuff => (¬GilderoyGryffindor)) ∧ (GilderoyHufflepuff => (¬GilderoyRavenclaw)) ∧ (GilderoyHufflepuff => (¬GilderoySlytherin)) ∧ (GilderoyRavenclaw => (¬GilderoyGryffindor)) ∧ (GilderoyRavenclaw => (¬GilderoyHufflepuff)) ∧ (GilderoyRavenclaw => (¬GilderoySlytherin)) ∧ (GilderoySlytherin => (¬GilderoyGryffindor)) ∧ (GilderoySlytherin => (¬GilderoyHufflepuff)) ∧ (GilderoySlytherin => (¬GilderoyRavenclaw)) ∧ (PomonaGryffindor => (¬PomonaHufflepuff)) ∧ (PomonaGryffindor => (¬PomonaRavenclaw)) ∧ (PomonaGryffindor => (¬PomonaSlytherin)) ∧ (PomonaHufflepuff => (¬PomonaGryffindor)) ∧ (PomonaHufflepuff => (¬PomonaRavenclaw)) ∧ (PomonaHufflepuff => (¬PomonaSlytherin)) ∧ (PomonaRavenclaw => (¬PomonaGryffindor)) ∧ (PomonaRavenclaw => (¬PomonaHufflepuff)) ∧ (PomonaRavenclaw => (¬PomonaSlytherin)) ∧ (PomonaSlytherin => (¬PomonaGryffindor)) ∧ (PomonaSlytherin => (¬PomonaHufflepuff)) ∧ (PomonaSlytherin => (¬PomonaRavenclaw)) ∧ (MinervaGryffindor => (¬MinervaHufflepuff)) ∧ (MinervaGryffindor => (¬MinervaRavenclaw)) ∧ (MinervaGryffindor => (¬MinervaSlytherin)) ∧ (MinervaHufflepuff => (¬MinervaGryffindor)) ∧ (MinervaHufflepuff => (¬MinervaRavenclaw)) ∧ (MinervaHufflepuff => (¬MinervaSlytherin)) ∧ (MinervaRavenclaw => (¬MinervaGryffindor)) ∧ (MinervaRavenclaw => (¬MinervaHufflepuff)) ∧ (MinervaRavenclaw => (¬MinervaSlytherin)) ∧ (MinervaSlytherin => (¬MinervaGryffindor)) ∧ (MinervaSlytherin => (¬MinervaHufflepuff)) ∧ (MinervaSlytherin => (¬MinervaRavenclaw)) ∧ (HoraceGryffindor => (¬HoraceHufflepuff)) ∧ (HoraceGryffindor => (¬HoraceRavenclaw)) ∧ (HoraceGryffindor => (¬HoraceSlytherin)) ∧ (HoraceHufflepuff => (¬HoraceGryffindor)) ∧ (HoraceHufflepuff => (¬HoraceRavenclaw)) ∧ (HoraceHufflepuff => (¬HoraceSlytherin)) ∧ (HoraceRavenclaw => (¬HoraceGryffindor)) ∧ (HoraceRavenclaw => (¬HoraceHufflepuff)) ∧ (HoraceRavenclaw => (¬HoraceSlytherin)) ∧ (HoraceSlytherin => (¬HoraceGryffindor)) ∧ (HoraceSlytherin => (¬HoraceHufflepuff)) ∧ (HoraceSlytherin => (¬HoraceRavenclaw)) ∧ (GilderoyGryffindor => (¬PomonaGryffindor)) ∧ (GilderoyGryffindor => (¬MinervaGryffindor)) ∧ (GilderoyGryffindor => (¬HoraceGryffindor)) ∧ (PomonaGryffindor => (¬GilderoyGryffindor)) ∧ (PomonaGryffindor => (¬MinervaGryffindor)) ∧ (PomonaGryffindor => (¬HoraceGryffindor)) ∧ (MinervaGryffindor => (¬GilderoyGryffindor)) ∧ (MinervaGryffindor => (¬PomonaGryffindor)) ∧ (MinervaGryffindor => (¬HoraceGryffindor)) ∧ (HoraceGryffindor => (¬GilderoyGryffindor)) ∧ (HoraceGryffindor => (¬PomonaGryffindor)) ∧ (HoraceGryffindor => (¬MinervaGryffindor)) ∧ (GilderoyHufflepuff => (¬PomonaHufflepuff)) ∧ (GilderoyHufflepuff => (¬MinervaHufflepuff)) ∧ (GilderoyHufflepuff => (¬HoraceHufflepuff)) ∧ (PomonaHufflepuff => (¬GilderoyHufflepuff)) ∧ (PomonaHufflepuff => (¬MinervaHufflepuff)) ∧ (PomonaHufflepuff => (¬HoraceHufflepuff)) ∧ (MinervaHufflepuff => (¬GilderoyHufflepuff)) ∧ (MinervaHufflepuff => (¬PomonaHufflepuff)) ∧ (MinervaHufflepuff => (¬HoraceHufflepuff)) ∧ (HoraceHufflepuff => (¬GilderoyHufflepuff)) ∧ (HoraceHufflepuff => (¬PomonaHufflepuff)) ∧ (HoraceHufflepuff => (¬MinervaHufflepuff)) ∧ (GilderoyRavenclaw => (¬PomonaRavenclaw)) ∧ (GilderoyRavenclaw => (¬MinervaRavenclaw)) ∧ (GilderoyRavenclaw => (¬HoraceRavenclaw)) ∧ (PomonaRavenclaw => (¬GilderoyRavenclaw)) ∧ (PomonaRavenclaw => (¬MinervaRavenclaw)) ∧ (PomonaRavenclaw => (¬HoraceRavenclaw)) ∧ (MinervaRavenclaw => (¬GilderoyRavenclaw)) ∧ (MinervaRavenclaw => (¬PomonaRavenclaw)) ∧ (MinervaRavenclaw => (¬HoraceRavenclaw)) ∧ (HoraceRavenclaw => (¬GilderoyRavenclaw)) ∧ (HoraceRavenclaw => (¬PomonaRavenclaw)) ∧ (HoraceRavenclaw => (¬MinervaRavenclaw)) ∧ (GilderoySlytherin => (¬PomonaSlytherin)) ∧ (GilderoySlytherin => (¬MinervaSlytherin)) ∧ (GilderoySlytherin => (¬HoraceSlytherin)) ∧ (PomonaSlytherin => (¬GilderoySlytherin)) ∧ (PomonaSlytherin => (¬MinervaSlytherin)) ∧ (PomonaSlytherin => (¬HoraceSlytherin)) ∧ (MinervaSlytherin => (¬GilderoySlytherin)) ∧ (MinervaSlytherin => (¬PomonaSlytherin)) ∧ (MinervaSlytherin => (¬HoraceSlytherin)) ∧ (HoraceSlytherin => (¬GilderoySlytherin)) ∧ (HoraceSlytherin => (¬PomonaSlytherin)) ∧ (HoraceSlytherin => (¬MinervaSlytherin)) ∧ (GilderoyGryffindor ∨  GilderoyRavenclaw) ∧ (¬PomonaSlytherin) ∧ MinervaGryffindor\n"
          ],
          "name": "stdout"
        }
      ]
    },
    {
      "cell_type": "code",
      "metadata": {
        "colab": {
          "base_uri": "https://localhost:8080/"
        },
        "id": "b6aG8Oa6eDDf",
        "outputId": "2818ac3d-68b8-4818-945e-f859eecd4479"
      },
      "source": [
        "for symbol in symbols:\r\n",
        "    if model_check(knowledge, symbol):\r\n",
        "        print(symbol)"
      ],
      "execution_count": null,
      "outputs": [
        {
          "output_type": "stream",
          "text": [
            "GilderoyRavenclaw\n",
            "PomonaHufflepuff\n",
            "MinervaGryffindor\n",
            "HoraceSlytherin\n"
          ],
          "name": "stdout"
        }
      ]
    }
  ]
}