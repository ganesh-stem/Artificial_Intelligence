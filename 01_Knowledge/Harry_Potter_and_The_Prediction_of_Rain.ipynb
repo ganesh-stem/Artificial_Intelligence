{
  "nbformat": 4,
  "nbformat_minor": 0,
  "metadata": {
    "colab": {
      "name": "Harry_Potter_and_The_Prediction_of_Rain.ipynb",
      "provenance": [],
      "collapsed_sections": []
    },
    "kernelspec": {
      "name": "python3",
      "display_name": "Python 3"
    }
  },
  "cells": [
    {
      "cell_type": "markdown",
      "metadata": {
        "id": "hmJkyrEhlVHO"
      },
      "source": [
        "Given the knowledge base, predict that whether it wiil be rain or not."
      ]
    },
    {
      "cell_type": "code",
      "metadata": {
        "id": "iFl0ZixTZrEk"
      },
      "source": [
        "from logic import *"
      ],
      "execution_count": null,
      "outputs": []
    },
    {
      "cell_type": "code",
      "metadata": {
        "id": "vaMG5hOiaUr4"
      },
      "source": [
        "rain = Symbol(\"rain\")\r\n",
        "hagrid = Symbol(\"hagrid\")\r\n",
        "dumbledore = Symbol(\"dumbledore\")"
      ],
      "execution_count": null,
      "outputs": []
    },
    {
      "cell_type": "code",
      "metadata": {
        "id": "dKtgpLdkaUyp"
      },
      "source": [
        "knowledge = And(\r\n",
        "    Implication(Not(rain), hagrid),\r\n",
        "    Or(hagrid, dumbledore),\r\n",
        "    Not(And(hagrid, dumbledore)),\r\n",
        "    dumbledore\r\n",
        ")"
      ],
      "execution_count": null,
      "outputs": []
    },
    {
      "cell_type": "code",
      "metadata": {
        "colab": {
          "base_uri": "https://localhost:8080/"
        },
        "id": "TV1Zif0rkvth",
        "outputId": "86ec5c59-de38-487c-fc9d-01447c0badc1"
      },
      "source": [
        "print(knowledge.formula())"
      ],
      "execution_count": null,
      "outputs": [
        {
          "output_type": "stream",
          "text": [
            "((¬rain) => hagrid) ∧ (hagrid ∨  dumbledore) ∧ (¬(hagrid ∧ dumbledore)) ∧ dumbledore\n"
          ],
          "name": "stdout"
        }
      ]
    },
    {
      "cell_type": "code",
      "metadata": {
        "colab": {
          "base_uri": "https://localhost:8080/"
        },
        "id": "z0S61LPtabe9",
        "outputId": "2ef6c974-742a-449f-8382-6781fbf2cc73"
      },
      "source": [
        "# Based on the provided knowleadge, find out that whether\r\n",
        "# it is raining or not.\r\n",
        "print(model_check(knowledge, rain))"
      ],
      "execution_count": null,
      "outputs": [
        {
          "output_type": "stream",
          "text": [
            "True\n"
          ],
          "name": "stdout"
        }
      ]
    }
  ]
}