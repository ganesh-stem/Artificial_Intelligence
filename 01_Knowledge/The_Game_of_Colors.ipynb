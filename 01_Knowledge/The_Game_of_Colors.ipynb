{
  "nbformat": 4,
  "nbformat_minor": 0,
  "metadata": {
    "colab": {
      "name": "The_Game_of_Colors.ipynb",
      "provenance": [],
      "collapsed_sections": []
    },
    "kernelspec": {
      "name": "python3",
      "display_name": "Python 3"
    }
  },
  "cells": [
    {
      "cell_type": "markdown",
      "metadata": {
        "id": "YE511YPhqDHe"
      },
      "source": [
        "Determnine the correct position of four colors -- RED, BLUE, GREEN, and YELLOW."
      ]
    },
    {
      "cell_type": "code",
      "metadata": {
        "id": "53B4OTNWcAZX"
      },
      "source": [
        "from logic import *"
      ],
      "execution_count": null,
      "outputs": []
    },
    {
      "cell_type": "code",
      "metadata": {
        "id": "WbjwFB1jccZU"
      },
      "source": [
        "colors = [\"red\", \"blue\", \"green\", \"yellow\"]\r\n",
        "symbols = []"
      ],
      "execution_count": null,
      "outputs": []
    },
    {
      "cell_type": "code",
      "metadata": {
        "id": "vildbTQhccbi"
      },
      "source": [
        "for i in range(4):\r\n",
        "    for color in colors:\r\n",
        "        symbols.append(Symbol(f\"{color}{i}\"))"
      ],
      "execution_count": null,
      "outputs": []
    },
    {
      "cell_type": "code",
      "metadata": {
        "id": "RTZWhQktcceR"
      },
      "source": [
        "knowledge = And()"
      ],
      "execution_count": null,
      "outputs": []
    },
    {
      "cell_type": "code",
      "metadata": {
        "id": "cvL17YSncci2"
      },
      "source": [
        "# Each color has a position.\r\n",
        "for color in colors:\r\n",
        "    knowledge.add(Or(\r\n",
        "        Symbol(f\"{color}0\"),\r\n",
        "        Symbol(f\"{color}1\"),\r\n",
        "        Symbol(f\"{color}2\"),\r\n",
        "        Symbol(f\"{color}3\")\r\n",
        "    ))"
      ],
      "execution_count": null,
      "outputs": []
    },
    {
      "cell_type": "code",
      "metadata": {
        "id": "P18Z2AmhcclV"
      },
      "source": [
        "# Only one position per color.\r\n",
        "for color in colors:\r\n",
        "    for i in range(4):\r\n",
        "        for j in range(4):\r\n",
        "            if i != j:\r\n",
        "                knowledge.add(Implication(\r\n",
        "                    Symbol(f\"{color}{i}\"), Not(Symbol(f\"{color}{j}\"))\r\n",
        "                ))"
      ],
      "execution_count": null,
      "outputs": []
    },
    {
      "cell_type": "code",
      "metadata": {
        "id": "fzepaN-VccqY"
      },
      "source": [
        "# Only one color per position.\r\n",
        "for i in range(4):\r\n",
        "    for c1 in colors:\r\n",
        "        for c2 in colors:\r\n",
        "            if c1 != c2:\r\n",
        "                knowledge.add(Implication(\r\n",
        "                    Symbol(f\"{c1}{i}\"), Not(Symbol(f\"{c2}{i}\"))\r\n",
        "                ))"
      ],
      "execution_count": null,
      "outputs": []
    },
    {
      "cell_type": "code",
      "metadata": {
        "id": "XypgSZ71cctA"
      },
      "source": [
        "knowledge.add(Or(\r\n",
        "    And(Symbol(\"red0\"), Symbol(\"blue1\"), Not(Symbol(\"green2\")), Not(Symbol(\"yellow3\"))),\r\n",
        "    And(Symbol(\"red0\"), Symbol(\"green2\"), Not(Symbol(\"blue1\")), Not(Symbol(\"yellow3\"))),\r\n",
        "    And(Symbol(\"red0\"), Symbol(\"yellow3\"), Not(Symbol(\"blue1\")), Not(Symbol(\"green2\"))),\r\n",
        "    And(Symbol(\"blue1\"), Symbol(\"green2\"), Not(Symbol(\"red0\")), Not(Symbol(\"yellow3\"))),\r\n",
        "    And(Symbol(\"blue1\"), Symbol(\"yellow3\"), Not(Symbol(\"red0\")), Not(Symbol(\"green2\"))),\r\n",
        "    And(Symbol(\"green2\"), Symbol(\"yellow3\"), Not(Symbol(\"red0\")), Not(Symbol(\"blue1\")))\r\n",
        "))\r\n"
      ],
      "execution_count": null,
      "outputs": []
    },
    {
      "cell_type": "code",
      "metadata": {
        "id": "b9tzgN93rYds"
      },
      "source": [
        "for symbol in symbols:\r\n",
        "    if model_check(knowledge, symbol):\r\n",
        "        print(symbol)"
      ],
      "execution_count": null,
      "outputs": []
    },
    {
      "cell_type": "code",
      "metadata": {
        "id": "VC9DKR4RccvC"
      },
      "source": [
        "knowledge.add(And(\r\n",
        "    Not(Symbol(\"blue0\")),\r\n",
        "    Not(Symbol(\"red1\")),\r\n",
        "    Not(Symbol(\"green2\")),\r\n",
        "    Not(Symbol(\"yellow3\"))\r\n",
        "))"
      ],
      "execution_count": null,
      "outputs": []
    },
    {
      "cell_type": "code",
      "metadata": {
        "colab": {
          "base_uri": "https://localhost:8080/"
        },
        "id": "jI76BtWAqvuy",
        "outputId": "29d0f6fc-74fb-4ee0-fd9c-ee830402c77d"
      },
      "source": [
        "for symbol in symbols:\r\n",
        "    if model_check(knowledge, symbol):\r\n",
        "        print(symbol)"
      ],
      "execution_count": null,
      "outputs": [
        {
          "output_type": "stream",
          "text": [
            "red0\n",
            "blue1\n",
            "yellow2\n",
            "green3\n"
          ],
          "name": "stdout"
        }
      ]
    }
  ]
}